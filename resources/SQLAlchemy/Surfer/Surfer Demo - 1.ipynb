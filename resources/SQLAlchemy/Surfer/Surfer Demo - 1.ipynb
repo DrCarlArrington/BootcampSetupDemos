{
 "cells": [
  {
   "cell_type": "code",
   "execution_count": 1,
   "id": "e8b9864b",
   "metadata": {},
   "outputs": [],
   "source": [
    "#Define the Surfer Class\n",
    "\n",
    "class Surfer():\n",
    "    \n",
    "    #define the constructor\n",
    "    def __init__(self, name, hometown, rank):\n",
    "        #set the values of the instance variables using the parameters of the constructor\n",
    "        self.name = name\n",
    "        self.hometown = hometown\n",
    "        self.rank = rank"
   ]
  },
  {
   "cell_type": "code",
   "execution_count": 2,
   "id": "7684aba1",
   "metadata": {},
   "outputs": [],
   "source": [
    "# create an instance of the Surfer Class\n",
    "surfer = Surfer('Tom Blake', 'Milwaukee, WI', 1)"
   ]
  },
  {
   "cell_type": "code",
   "execution_count": 6,
   "id": "0eaa52e9",
   "metadata": {},
   "outputs": [
    {
     "name": "stdout",
     "output_type": "stream",
     "text": [
      "Surfer Name: \tTom Blake\n",
      "Hometown: \tMilwaukee, WI\n",
      "Rank: \t\t1\n"
     ]
    }
   ],
   "source": [
    "# Print the object's attributes\n",
    "print(f\"Surfer Name: \\t{surfer.name}\")\n",
    "print(f\"Hometown: \\t{surfer.hometown}\")\n",
    "print(f\"Rank: \\t\\t{surfer.rank}\")"
   ]
  },
  {
   "cell_type": "code",
   "execution_count": 9,
   "id": "26072c8c",
   "metadata": {},
   "outputs": [
    {
     "name": "stdout",
     "output_type": "stream",
     "text": [
      "What is the surfer's name? Kelly Slater\n",
      "Where is Kelly Slater from? Cocoa Beach\n",
      "What is Kelly Slater's rank? 1\n",
      "\n",
      "Surfer Name: \tKelly Slater\n",
      "Hometown: \tCocoa Beach\n",
      "Rank: \t\t1 \n",
      "\n",
      "Would you like to enter another Surfer's info? (y/n) y\n",
      "\n",
      "What is the surfer's name? Dr. A\n",
      "Where is Dr. A from? Virginia\n",
      "What is Dr. A's rank? 999999999\n",
      "\n",
      "Surfer Name: \tDr. A\n",
      "Hometown: \tVirginia\n",
      "Rank: \t\t999999999 \n",
      "\n",
      "Would you like to enter another Surfer's info? (y/n) n\n"
     ]
    }
   ],
   "source": [
    "# Continuous Input of Surfers using a loop\n",
    "\n",
    "# variable to control the loop below\n",
    "repeat = True\n",
    "\n",
    "# while loop repeats as long as the value of repeat is True\n",
    "while repeat == True:\n",
    "    \n",
    "    # Ask the user to enter information about the surfer\n",
    "    name = input(\"What is the surfer's name? \")\n",
    "    hometown = input(f\"Where is {name} from? \")\n",
    "    rank = int(input(f\"What is {name}'s rank? \"))\n",
    "    \n",
    "    # Create an instance of the Surfer Class using the name, hometown, and rank inputs\n",
    "    surfer = Surfer(name, hometown, rank)\n",
    "    \n",
    "    # Print the Surfer Object's Attributes\n",
    "    print(f\"\\nSurfer Name: \\t{surfer.name}\")\n",
    "    print(f\"Hometown: \\t{surfer.hometown}\")\n",
    "    print(f\"Rank: \\t\\t{surfer.rank} \\n\")\n",
    "    \n",
    "    check = input(\"Would you like to enter another Surfer's info? (y/n) \")\n",
    "    if(check.lower() == 'y'):\n",
    "        repeat = True\n",
    "        print() # prints a space between the input and the next surfer's information request\n",
    "    else:\n",
    "        repeat = False # stops the loop"
   ]
  },
  {
   "cell_type": "code",
   "execution_count": null,
   "id": "63471c47",
   "metadata": {},
   "outputs": [],
   "source": []
  }
 ],
 "metadata": {
  "kernelspec": {
   "display_name": "Python 3",
   "language": "python",
   "name": "python3"
  },
  "language_info": {
   "codemirror_mode": {
    "name": "ipython",
    "version": 3
   },
   "file_extension": ".py",
   "mimetype": "text/x-python",
   "name": "python",
   "nbconvert_exporter": "python",
   "pygments_lexer": "ipython3",
   "version": "3.8.8"
  }
 },
 "nbformat": 4,
 "nbformat_minor": 5
}
