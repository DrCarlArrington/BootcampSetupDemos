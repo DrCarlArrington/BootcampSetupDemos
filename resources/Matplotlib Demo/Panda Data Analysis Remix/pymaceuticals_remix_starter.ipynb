{
 "cells": [
  {
   "cell_type": "markdown",
   "metadata": {},
   "source": [
    "## Observations and Insights "
   ]
  },
  {
   "cell_type": "markdown",
   "metadata": {},
   "source": []
  },
  {
   "cell_type": "code",
   "execution_count": 2,
   "metadata": {},
   "outputs": [
    {
     "data": {
      "text/html": [
       "<div>\n",
       "<style scoped>\n",
       "    .dataframe tbody tr th:only-of-type {\n",
       "        vertical-align: middle;\n",
       "    }\n",
       "\n",
       "    .dataframe tbody tr th {\n",
       "        vertical-align: top;\n",
       "    }\n",
       "\n",
       "    .dataframe thead th {\n",
       "        text-align: right;\n",
       "    }\n",
       "</style>\n",
       "<table border=\"1\" class=\"dataframe\">\n",
       "  <thead>\n",
       "    <tr style=\"text-align: right;\">\n",
       "      <th></th>\n",
       "      <th>Patient ID</th>\n",
       "      <th>Time Passed (Days)</th>\n",
       "      <th>AntibodyLevel (U/mL)</th>\n",
       "      <th>Vaccination</th>\n",
       "      <th>Gender</th>\n",
       "      <th>Age</th>\n",
       "      <th>Weight (Pounds)</th>\n",
       "    </tr>\n",
       "  </thead>\n",
       "  <tbody>\n",
       "    <tr>\n",
       "      <th>0</th>\n",
       "      <td>QwMNj</td>\n",
       "      <td>0</td>\n",
       "      <td>1678.40</td>\n",
       "      <td>Moderna</td>\n",
       "      <td>Male</td>\n",
       "      <td>34</td>\n",
       "      <td>99</td>\n",
       "    </tr>\n",
       "    <tr>\n",
       "      <th>1</th>\n",
       "      <td>szsYJ</td>\n",
       "      <td>0</td>\n",
       "      <td>1490.84</td>\n",
       "      <td>J&amp;J</td>\n",
       "      <td>Female</td>\n",
       "      <td>17</td>\n",
       "      <td>334</td>\n",
       "    </tr>\n",
       "    <tr>\n",
       "      <th>2</th>\n",
       "      <td>vN44A</td>\n",
       "      <td>0</td>\n",
       "      <td>1111.66</td>\n",
       "      <td>J&amp;J</td>\n",
       "      <td>Male</td>\n",
       "      <td>67</td>\n",
       "      <td>150</td>\n",
       "    </tr>\n",
       "    <tr>\n",
       "      <th>3</th>\n",
       "      <td>u4lQ_</td>\n",
       "      <td>0</td>\n",
       "      <td>262.43</td>\n",
       "      <td>J&amp;J</td>\n",
       "      <td>Female</td>\n",
       "      <td>51</td>\n",
       "      <td>342</td>\n",
       "    </tr>\n",
       "    <tr>\n",
       "      <th>4</th>\n",
       "      <td>uPC6L</td>\n",
       "      <td>0</td>\n",
       "      <td>545.38</td>\n",
       "      <td>J&amp;J</td>\n",
       "      <td>Male</td>\n",
       "      <td>37</td>\n",
       "      <td>138</td>\n",
       "    </tr>\n",
       "  </tbody>\n",
       "</table>\n",
       "</div>"
      ],
      "text/plain": [
       "  Patient ID  Time Passed (Days)  AntibodyLevel (U/mL) Vaccination  Gender  \\\n",
       "0      QwMNj                   0               1678.40     Moderna    Male   \n",
       "1      szsYJ                   0               1490.84         J&J  Female   \n",
       "2      vN44A                   0               1111.66         J&J    Male   \n",
       "3      u4lQ_                   0                262.43         J&J  Female   \n",
       "4      uPC6L                   0                545.38         J&J    Male   \n",
       "\n",
       "   Age  Weight (Pounds)  \n",
       "0   34               99  \n",
       "1   17              334  \n",
       "2   67              150  \n",
       "3   51              342  \n",
       "4   37              138  "
      ]
     },
     "execution_count": 2,
     "metadata": {},
     "output_type": "execute_result"
    }
   ],
   "source": [
    "# Dependencies and Setup\n",
    "import matplotlib.pyplot as plt\n",
    "import pandas as pd\n",
    "import scipy.stats as st\n",
    "\n",
    "# Study data files\n",
    "vaccination_metadata = \"data/vaccination_metadata.csv\"\n",
    "vaccination_study_path = \"data/vaccination_study_results.csv\"\n",
    "\n",
    "# Read the mouse data and the study results\n",
    "vaccination_data = pd.read_csv(vaccination_metadata)\n",
    "study_results = pd.read_csv(vaccination_study_path)\n",
    "\n",
    "# Combine the data into a single dataset\n",
    "\n",
    "# Display the data table for preview\n"
   ]
  },
  {
   "cell_type": "code",
   "execution_count": 3,
   "metadata": {},
   "outputs": [
    {
     "data": {
      "text/plain": [
       "249"
      ]
     },
     "execution_count": 3,
     "metadata": {},
     "output_type": "execute_result"
    }
   ],
   "source": [
    "# Checking the number of patients.\n"
   ]
  },
  {
   "cell_type": "code",
   "execution_count": 4,
   "metadata": {},
   "outputs": [
    {
     "data": {
      "text/plain": [
       "array(['RS7EK'], dtype=object)"
      ]
     },
     "execution_count": 4,
     "metadata": {},
     "output_type": "execute_result"
    }
   ],
   "source": [
    "# Getting the duplicate patients by ID number that shows up Patient ID and the Time Passed. \n",
    "\n"
   ]
  },
  {
   "cell_type": "code",
   "execution_count": 5,
   "metadata": {},
   "outputs": [
    {
     "data": {
      "text/html": [
       "<div>\n",
       "<style scoped>\n",
       "    .dataframe tbody tr th:only-of-type {\n",
       "        vertical-align: middle;\n",
       "    }\n",
       "\n",
       "    .dataframe tbody tr th {\n",
       "        vertical-align: top;\n",
       "    }\n",
       "\n",
       "    .dataframe thead th {\n",
       "        text-align: right;\n",
       "    }\n",
       "</style>\n",
       "<table border=\"1\" class=\"dataframe\">\n",
       "  <thead>\n",
       "    <tr style=\"text-align: right;\">\n",
       "      <th></th>\n",
       "      <th>Patient ID</th>\n",
       "      <th>Time Passed (Days)</th>\n",
       "      <th>AntibodyLevel (U/mL)</th>\n",
       "      <th>Vaccination</th>\n",
       "      <th>Gender</th>\n",
       "      <th>Age</th>\n",
       "      <th>Weight (Pounds)</th>\n",
       "    </tr>\n",
       "  </thead>\n",
       "  <tbody>\n",
       "    <tr>\n",
       "      <th>107</th>\n",
       "      <td>RS7EK</td>\n",
       "      <td>0</td>\n",
       "      <td>906.41</td>\n",
       "      <td>J&amp;J</td>\n",
       "      <td>Female</td>\n",
       "      <td>49</td>\n",
       "      <td>77</td>\n",
       "    </tr>\n",
       "    <tr>\n",
       "      <th>137</th>\n",
       "      <td>RS7EK</td>\n",
       "      <td>0</td>\n",
       "      <td>400.95</td>\n",
       "      <td>J&amp;J</td>\n",
       "      <td>Female</td>\n",
       "      <td>49</td>\n",
       "      <td>77</td>\n",
       "    </tr>\n",
       "    <tr>\n",
       "      <th>329</th>\n",
       "      <td>RS7EK</td>\n",
       "      <td>5</td>\n",
       "      <td>158.23</td>\n",
       "      <td>J&amp;J</td>\n",
       "      <td>Female</td>\n",
       "      <td>49</td>\n",
       "      <td>77</td>\n",
       "    </tr>\n",
       "    <tr>\n",
       "      <th>360</th>\n",
       "      <td>RS7EK</td>\n",
       "      <td>5</td>\n",
       "      <td>510.04</td>\n",
       "      <td>J&amp;J</td>\n",
       "      <td>Female</td>\n",
       "      <td>49</td>\n",
       "      <td>77</td>\n",
       "    </tr>\n",
       "    <tr>\n",
       "      <th>620</th>\n",
       "      <td>RS7EK</td>\n",
       "      <td>10</td>\n",
       "      <td>71.97</td>\n",
       "      <td>J&amp;J</td>\n",
       "      <td>Female</td>\n",
       "      <td>49</td>\n",
       "      <td>77</td>\n",
       "    </tr>\n",
       "    <tr>\n",
       "      <th>681</th>\n",
       "      <td>RS7EK</td>\n",
       "      <td>10</td>\n",
       "      <td>65.69</td>\n",
       "      <td>J&amp;J</td>\n",
       "      <td>Female</td>\n",
       "      <td>49</td>\n",
       "      <td>77</td>\n",
       "    </tr>\n",
       "    <tr>\n",
       "      <th>815</th>\n",
       "      <td>RS7EK</td>\n",
       "      <td>15</td>\n",
       "      <td>762.45</td>\n",
       "      <td>J&amp;J</td>\n",
       "      <td>Female</td>\n",
       "      <td>49</td>\n",
       "      <td>77</td>\n",
       "    </tr>\n",
       "    <tr>\n",
       "      <th>869</th>\n",
       "      <td>RS7EK</td>\n",
       "      <td>15</td>\n",
       "      <td>801.72</td>\n",
       "      <td>J&amp;J</td>\n",
       "      <td>Female</td>\n",
       "      <td>49</td>\n",
       "      <td>77</td>\n",
       "    </tr>\n",
       "    <tr>\n",
       "      <th>950</th>\n",
       "      <td>RS7EK</td>\n",
       "      <td>20</td>\n",
       "      <td>418.17</td>\n",
       "      <td>J&amp;J</td>\n",
       "      <td>Female</td>\n",
       "      <td>49</td>\n",
       "      <td>77</td>\n",
       "    </tr>\n",
       "    <tr>\n",
       "      <th>1111</th>\n",
       "      <td>RS7EK</td>\n",
       "      <td>20</td>\n",
       "      <td>105.74</td>\n",
       "      <td>J&amp;J</td>\n",
       "      <td>Female</td>\n",
       "      <td>49</td>\n",
       "      <td>77</td>\n",
       "    </tr>\n",
       "    <tr>\n",
       "      <th>1195</th>\n",
       "      <td>RS7EK</td>\n",
       "      <td>25</td>\n",
       "      <td>667.95</td>\n",
       "      <td>J&amp;J</td>\n",
       "      <td>Female</td>\n",
       "      <td>49</td>\n",
       "      <td>77</td>\n",
       "    </tr>\n",
       "    <tr>\n",
       "      <th>1380</th>\n",
       "      <td>RS7EK</td>\n",
       "      <td>30</td>\n",
       "      <td>1089.58</td>\n",
       "      <td>J&amp;J</td>\n",
       "      <td>Female</td>\n",
       "      <td>49</td>\n",
       "      <td>77</td>\n",
       "    </tr>\n",
       "    <tr>\n",
       "      <th>1592</th>\n",
       "      <td>RS7EK</td>\n",
       "      <td>35</td>\n",
       "      <td>1158.20</td>\n",
       "      <td>J&amp;J</td>\n",
       "      <td>Female</td>\n",
       "      <td>49</td>\n",
       "      <td>77</td>\n",
       "    </tr>\n",
       "  </tbody>\n",
       "</table>\n",
       "</div>"
      ],
      "text/plain": [
       "     Patient ID  Time Passed (Days)  AntibodyLevel (U/mL) Vaccination  Gender  \\\n",
       "107       RS7EK                   0                906.41         J&J  Female   \n",
       "137       RS7EK                   0                400.95         J&J  Female   \n",
       "329       RS7EK                   5                158.23         J&J  Female   \n",
       "360       RS7EK                   5                510.04         J&J  Female   \n",
       "620       RS7EK                  10                 71.97         J&J  Female   \n",
       "681       RS7EK                  10                 65.69         J&J  Female   \n",
       "815       RS7EK                  15                762.45         J&J  Female   \n",
       "869       RS7EK                  15                801.72         J&J  Female   \n",
       "950       RS7EK                  20                418.17         J&J  Female   \n",
       "1111      RS7EK                  20                105.74         J&J  Female   \n",
       "1195      RS7EK                  25                667.95         J&J  Female   \n",
       "1380      RS7EK                  30               1089.58         J&J  Female   \n",
       "1592      RS7EK                  35               1158.20         J&J  Female   \n",
       "\n",
       "      Age  Weight (Pounds)  \n",
       "107    49               77  \n",
       "137    49               77  \n",
       "329    49               77  \n",
       "360    49               77  \n",
       "620    49               77  \n",
       "681    49               77  \n",
       "815    49               77  \n",
       "869    49               77  \n",
       "950    49               77  \n",
       "1111   49               77  \n",
       "1195   49               77  \n",
       "1380   49               77  \n",
       "1592   49               77  "
      ]
     },
     "execution_count": 5,
     "metadata": {},
     "output_type": "execute_result"
    }
   ],
   "source": [
    "# Optional: Get all the data for the duplicate mouse ID. \n",
    "\n"
   ]
  },
  {
   "cell_type": "code",
   "execution_count": 6,
   "metadata": {},
   "outputs": [
    {
     "data": {
      "text/html": [
       "<div>\n",
       "<style scoped>\n",
       "    .dataframe tbody tr th:only-of-type {\n",
       "        vertical-align: middle;\n",
       "    }\n",
       "\n",
       "    .dataframe tbody tr th {\n",
       "        vertical-align: top;\n",
       "    }\n",
       "\n",
       "    .dataframe thead th {\n",
       "        text-align: right;\n",
       "    }\n",
       "</style>\n",
       "<table border=\"1\" class=\"dataframe\">\n",
       "  <thead>\n",
       "    <tr style=\"text-align: right;\">\n",
       "      <th></th>\n",
       "      <th>Patient ID</th>\n",
       "      <th>Time Passed (Days)</th>\n",
       "      <th>AntibodyLevel (U/mL)</th>\n",
       "      <th>Vaccination</th>\n",
       "      <th>Gender</th>\n",
       "      <th>Age</th>\n",
       "      <th>Weight (Pounds)</th>\n",
       "    </tr>\n",
       "  </thead>\n",
       "  <tbody>\n",
       "    <tr>\n",
       "      <th>0</th>\n",
       "      <td>QwMNj</td>\n",
       "      <td>0</td>\n",
       "      <td>1678.40</td>\n",
       "      <td>Moderna</td>\n",
       "      <td>Male</td>\n",
       "      <td>34</td>\n",
       "      <td>99</td>\n",
       "    </tr>\n",
       "    <tr>\n",
       "      <th>1</th>\n",
       "      <td>szsYJ</td>\n",
       "      <td>0</td>\n",
       "      <td>1490.84</td>\n",
       "      <td>J&amp;J</td>\n",
       "      <td>Female</td>\n",
       "      <td>17</td>\n",
       "      <td>334</td>\n",
       "    </tr>\n",
       "    <tr>\n",
       "      <th>2</th>\n",
       "      <td>vN44A</td>\n",
       "      <td>0</td>\n",
       "      <td>1111.66</td>\n",
       "      <td>J&amp;J</td>\n",
       "      <td>Male</td>\n",
       "      <td>67</td>\n",
       "      <td>150</td>\n",
       "    </tr>\n",
       "    <tr>\n",
       "      <th>3</th>\n",
       "      <td>u4lQ_</td>\n",
       "      <td>0</td>\n",
       "      <td>262.43</td>\n",
       "      <td>J&amp;J</td>\n",
       "      <td>Female</td>\n",
       "      <td>51</td>\n",
       "      <td>342</td>\n",
       "    </tr>\n",
       "    <tr>\n",
       "      <th>4</th>\n",
       "      <td>uPC6L</td>\n",
       "      <td>0</td>\n",
       "      <td>545.38</td>\n",
       "      <td>J&amp;J</td>\n",
       "      <td>Male</td>\n",
       "      <td>37</td>\n",
       "      <td>138</td>\n",
       "    </tr>\n",
       "  </tbody>\n",
       "</table>\n",
       "</div>"
      ],
      "text/plain": [
       "  Patient ID  Time Passed (Days)  AntibodyLevel (U/mL) Vaccination  Gender  \\\n",
       "0      QwMNj                   0               1678.40     Moderna    Male   \n",
       "1      szsYJ                   0               1490.84         J&J  Female   \n",
       "2      vN44A                   0               1111.66         J&J    Male   \n",
       "3      u4lQ_                   0                262.43         J&J  Female   \n",
       "4      uPC6L                   0                545.38         J&J    Male   \n",
       "\n",
       "   Age  Weight (Pounds)  \n",
       "0   34               99  \n",
       "1   17              334  \n",
       "2   67              150  \n",
       "3   51              342  \n",
       "4   37              138  "
      ]
     },
     "execution_count": 6,
     "metadata": {},
     "output_type": "execute_result"
    }
   ],
   "source": [
    "# Create a clean DataFrame by dropping the duplicate patient by its ID.\n"
   ]
  },
  {
   "cell_type": "code",
   "execution_count": 7,
   "metadata": {},
   "outputs": [
    {
     "data": {
      "text/plain": [
       "248"
      ]
     },
     "execution_count": 7,
     "metadata": {},
     "output_type": "execute_result"
    }
   ],
   "source": [
    "# Checking the number of patients in the clean DataFrame.\n"
   ]
  },
  {
   "cell_type": "markdown",
   "metadata": {},
   "source": [
    "## Summary Statistics"
   ]
  },
  {
   "cell_type": "code",
   "execution_count": 8,
   "metadata": {},
   "outputs": [
    {
     "data": {
      "text/html": [
       "<div>\n",
       "<style scoped>\n",
       "    .dataframe tbody tr th:only-of-type {\n",
       "        vertical-align: middle;\n",
       "    }\n",
       "\n",
       "    .dataframe tbody tr th {\n",
       "        vertical-align: top;\n",
       "    }\n",
       "\n",
       "    .dataframe thead th {\n",
       "        text-align: right;\n",
       "    }\n",
       "</style>\n",
       "<table border=\"1\" class=\"dataframe\">\n",
       "  <thead>\n",
       "    <tr style=\"text-align: right;\">\n",
       "      <th></th>\n",
       "      <th>Mean Antibody Level</th>\n",
       "      <th>Median Antibody Level</th>\n",
       "      <th>Antibody Level Variance</th>\n",
       "      <th>Antibody Level Std. Dev.</th>\n",
       "      <th>Antibody Level Std. Err.</th>\n",
       "    </tr>\n",
       "    <tr>\n",
       "      <th>Vaccination</th>\n",
       "      <th></th>\n",
       "      <th></th>\n",
       "      <th></th>\n",
       "      <th></th>\n",
       "      <th></th>\n",
       "    </tr>\n",
       "  </thead>\n",
       "  <tbody>\n",
       "    <tr>\n",
       "      <th>J&amp;J</th>\n",
       "      <td>472.729903</td>\n",
       "      <td>372.620</td>\n",
       "      <td>164236.778866</td>\n",
       "      <td>405.261371</td>\n",
       "      <td>17.806162</td>\n",
       "    </tr>\n",
       "    <tr>\n",
       "      <th>Moderna</th>\n",
       "      <td>477.716571</td>\n",
       "      <td>364.085</td>\n",
       "      <td>176750.666784</td>\n",
       "      <td>420.417253</td>\n",
       "      <td>17.279043</td>\n",
       "    </tr>\n",
       "    <tr>\n",
       "      <th>None</th>\n",
       "      <td>533.828871</td>\n",
       "      <td>379.815</td>\n",
       "      <td>234784.611298</td>\n",
       "      <td>484.545778</td>\n",
       "      <td>35.528620</td>\n",
       "    </tr>\n",
       "    <tr>\n",
       "      <th>Pfizer</th>\n",
       "      <td>495.083510</td>\n",
       "      <td>370.710</td>\n",
       "      <td>193936.200663</td>\n",
       "      <td>440.381880</td>\n",
       "      <td>18.223132</td>\n",
       "    </tr>\n",
       "  </tbody>\n",
       "</table>\n",
       "</div>"
      ],
      "text/plain": [
       "             Mean Antibody Level  Median Antibody Level  \\\n",
       "Vaccination                                               \n",
       "J&J                   472.729903                372.620   \n",
       "Moderna               477.716571                364.085   \n",
       "None                  533.828871                379.815   \n",
       "Pfizer                495.083510                370.710   \n",
       "\n",
       "             Antibody Level Variance  Antibody Level Std. Dev.  \\\n",
       "Vaccination                                                      \n",
       "J&J                    164236.778866                405.261371   \n",
       "Moderna                176750.666784                420.417253   \n",
       "None                   234784.611298                484.545778   \n",
       "Pfizer                 193936.200663                440.381880   \n",
       "\n",
       "             Antibody Level Std. Err.  \n",
       "Vaccination                            \n",
       "J&J                         17.806162  \n",
       "Moderna                     17.279043  \n",
       "None                        35.528620  \n",
       "Pfizer                      18.223132  "
      ]
     },
     "execution_count": 8,
     "metadata": {},
     "output_type": "execute_result"
    }
   ],
   "source": [
    "# Generate a summary statistics table of mean, median, variance, standard deviation, and SEM of the antibody count for each vaccine\n",
    "\n",
    "# Use groupby and summary statistical methods to calculate the following properties of each vaccine: \n",
    "# mean, median, variance, standard deviation, and SEM of the antibody count. \n",
    "# Assemble the resulting series into a single summary dataframe.\n"
   ]
  },
  {
   "cell_type": "code",
   "execution_count": 9,
   "metadata": {},
   "outputs": [
    {
     "data": {
      "text/html": [
       "<div>\n",
       "<style scoped>\n",
       "    .dataframe tbody tr th:only-of-type {\n",
       "        vertical-align: middle;\n",
       "    }\n",
       "\n",
       "    .dataframe tbody tr th {\n",
       "        vertical-align: top;\n",
       "    }\n",
       "\n",
       "    .dataframe thead tr th {\n",
       "        text-align: left;\n",
       "    }\n",
       "\n",
       "    .dataframe thead tr:last-of-type th {\n",
       "        text-align: right;\n",
       "    }\n",
       "</style>\n",
       "<table border=\"1\" class=\"dataframe\">\n",
       "  <thead>\n",
       "    <tr>\n",
       "      <th></th>\n",
       "      <th colspan=\"5\" halign=\"left\">AntibodyLevel (U/mL)</th>\n",
       "    </tr>\n",
       "    <tr>\n",
       "      <th></th>\n",
       "      <th>mean</th>\n",
       "      <th>median</th>\n",
       "      <th>var</th>\n",
       "      <th>std</th>\n",
       "      <th>sem</th>\n",
       "    </tr>\n",
       "    <tr>\n",
       "      <th>Vaccination</th>\n",
       "      <th></th>\n",
       "      <th></th>\n",
       "      <th></th>\n",
       "      <th></th>\n",
       "      <th></th>\n",
       "    </tr>\n",
       "  </thead>\n",
       "  <tbody>\n",
       "    <tr>\n",
       "      <th>J&amp;J</th>\n",
       "      <td>472.729903</td>\n",
       "      <td>372.620</td>\n",
       "      <td>164236.778866</td>\n",
       "      <td>405.261371</td>\n",
       "      <td>17.806162</td>\n",
       "    </tr>\n",
       "    <tr>\n",
       "      <th>Moderna</th>\n",
       "      <td>477.716571</td>\n",
       "      <td>364.085</td>\n",
       "      <td>176750.666784</td>\n",
       "      <td>420.417253</td>\n",
       "      <td>17.279043</td>\n",
       "    </tr>\n",
       "    <tr>\n",
       "      <th>None</th>\n",
       "      <td>533.828871</td>\n",
       "      <td>379.815</td>\n",
       "      <td>234784.611298</td>\n",
       "      <td>484.545778</td>\n",
       "      <td>35.528620</td>\n",
       "    </tr>\n",
       "    <tr>\n",
       "      <th>Pfizer</th>\n",
       "      <td>495.083510</td>\n",
       "      <td>370.710</td>\n",
       "      <td>193936.200663</td>\n",
       "      <td>440.381880</td>\n",
       "      <td>18.223132</td>\n",
       "    </tr>\n",
       "  </tbody>\n",
       "</table>\n",
       "</div>"
      ],
      "text/plain": [
       "            AntibodyLevel (U/mL)                                      \\\n",
       "                            mean   median            var         std   \n",
       "Vaccination                                                            \n",
       "J&J                   472.729903  372.620  164236.778866  405.261371   \n",
       "Moderna               477.716571  364.085  176750.666784  420.417253   \n",
       "None                  533.828871  379.815  234784.611298  484.545778   \n",
       "Pfizer                495.083510  370.710  193936.200663  440.381880   \n",
       "\n",
       "                        \n",
       "                   sem  \n",
       "Vaccination             \n",
       "J&J          17.806162  \n",
       "Moderna      17.279043  \n",
       "None         35.528620  \n",
       "Pfizer       18.223132  "
      ]
     },
     "execution_count": 9,
     "metadata": {},
     "output_type": "execute_result"
    }
   ],
   "source": [
    "# Generate a summary statistics table of mean, median, variance, standard deviation, and SEM of the antibody count for each vaccination\n",
    "\n",
    "# Using the aggregation method, produce the same summary statistics in a single line\n"
   ]
  },
  {
   "cell_type": "markdown",
   "metadata": {},
   "source": [
    "## Bar and Pie Charts"
   ]
  },
  {
   "cell_type": "code",
   "execution_count": 10,
   "metadata": {},
   "outputs": [
    {
     "data": {
      "image/png": "[encoded data removed]",
      "text/plain": [
       "<Figure size 432x288 with 1 Axes>"
      ]
     },
     "metadata": {
      "needs_background": "light"
     },
     "output_type": "display_data"
    }
   ],
   "source": [
    "# Generate a bar plot showing the total number of timepoints for all patient tested for each vaccine using Pandas.\n"
   ]
  },
  {
   "cell_type": "code",
   "execution_count": 11,
   "metadata": {},
   "outputs": [
    {
     "data": {
      "image/png": "[encoded data removed]",
      "text/plain": [
       "<Figure size 432x288 with 1 Axes>"
      ]
     },
     "metadata": {
      "needs_background": "light"
     },
     "output_type": "display_data"
    }
   ],
   "source": [
    "# Generate a bar plot showing the total number of timepoints for all mice tested for each vaccination using pyplot.\n",
    "\n"
   ]
  },
  {
   "cell_type": "code",
   "execution_count": 12,
   "metadata": {},
   "outputs": [
    {
     "data": {
      "image/png": "[encoded data removed]",
      "text/plain": [
       "<Figure size 432x288 with 1 Axes>"
      ]
     },
     "metadata": {},
     "output_type": "display_data"
    }
   ],
   "source": [
    "# Generate a pie plot showing the distribution of patients by gender using Pandas\n",
    "\n"
   ]
  },
  {
   "cell_type": "code",
   "execution_count": 13,
   "metadata": {},
   "outputs": [
    {
     "data": {
      "image/png": "[encoded data removed]",
      "text/plain": [
       "<Figure size 432x288 with 1 Axes>"
      ]
     },
     "metadata": {},
     "output_type": "display_data"
    }
   ],
   "source": [
    "# Generate a pie plot showing the distribution of patients by gender using pyplot\n",
    "\n"
   ]
  },
  {
   "cell_type": "markdown",
   "metadata": {},
   "source": [
    "## Quartiles, Outliers and Boxplots"
   ]
  },
  {
   "cell_type": "code",
   "execution_count": 14,
   "metadata": {},
   "outputs": [
    {
     "data": {
      "text/html": [
       "<div>\n",
       "<style scoped>\n",
       "    .dataframe tbody tr th:only-of-type {\n",
       "        vertical-align: middle;\n",
       "    }\n",
       "\n",
       "    .dataframe tbody tr th {\n",
       "        vertical-align: top;\n",
       "    }\n",
       "\n",
       "    .dataframe thead th {\n",
       "        text-align: right;\n",
       "    }\n",
       "</style>\n",
       "<table border=\"1\" class=\"dataframe\">\n",
       "  <thead>\n",
       "    <tr style=\"text-align: right;\">\n",
       "      <th></th>\n",
       "      <th>Patient ID</th>\n",
       "      <th>Time Passed (Days)</th>\n",
       "      <th>AntibodyLevel (U/mL)</th>\n",
       "      <th>Vaccination</th>\n",
       "      <th>Gender</th>\n",
       "      <th>Age</th>\n",
       "      <th>Weight (Pounds)</th>\n",
       "    </tr>\n",
       "  </thead>\n",
       "  <tbody>\n",
       "    <tr>\n",
       "      <th>0</th>\n",
       "      <td>0QUHB</td>\n",
       "      <td>45</td>\n",
       "      <td>1805.55</td>\n",
       "      <td>Moderna</td>\n",
       "      <td>Female</td>\n",
       "      <td>32</td>\n",
       "      <td>215</td>\n",
       "    </tr>\n",
       "    <tr>\n",
       "      <th>1</th>\n",
       "      <td>0S7WD</td>\n",
       "      <td>30</td>\n",
       "      <td>1035.24</td>\n",
       "      <td>Moderna</td>\n",
       "      <td>Male</td>\n",
       "      <td>22</td>\n",
       "      <td>302</td>\n",
       "    </tr>\n",
       "    <tr>\n",
       "      <th>2</th>\n",
       "      <td>0pZFa</td>\n",
       "      <td>10</td>\n",
       "      <td>1439.88</td>\n",
       "      <td>J&amp;J</td>\n",
       "      <td>Male</td>\n",
       "      <td>65</td>\n",
       "      <td>75</td>\n",
       "    </tr>\n",
       "    <tr>\n",
       "      <th>3</th>\n",
       "      <td>0qDoW</td>\n",
       "      <td>5</td>\n",
       "      <td>96.85</td>\n",
       "      <td>J&amp;J</td>\n",
       "      <td>Male</td>\n",
       "      <td>17</td>\n",
       "      <td>325</td>\n",
       "    </tr>\n",
       "    <tr>\n",
       "      <th>4</th>\n",
       "      <td>0zt-N</td>\n",
       "      <td>30</td>\n",
       "      <td>534.54</td>\n",
       "      <td>Pfizer</td>\n",
       "      <td>Female</td>\n",
       "      <td>35</td>\n",
       "      <td>230</td>\n",
       "    </tr>\n",
       "  </tbody>\n",
       "</table>\n",
       "</div>"
      ],
      "text/plain": [
       "  Patient ID  Time Passed (Days)  AntibodyLevel (U/mL) Vaccination  Gender  \\\n",
       "0      0QUHB                  45               1805.55     Moderna  Female   \n",
       "1      0S7WD                  30               1035.24     Moderna    Male   \n",
       "2      0pZFa                  10               1439.88         J&J    Male   \n",
       "3      0qDoW                   5                 96.85         J&J    Male   \n",
       "4      0zt-N                  30                534.54      Pfizer  Female   \n",
       "\n",
       "   Age  Weight (Pounds)  \n",
       "0   32              215  \n",
       "1   22              302  \n",
       "2   65               75  \n",
       "3   17              325  \n",
       "4   35              230  "
      ]
     },
     "execution_count": 14,
     "metadata": {},
     "output_type": "execute_result"
    }
   ],
   "source": [
    "# Calculate the final antibody level of each patient across each of the vaccinations:  \n",
    "# Pfizer, Moderna, J&J, none\n",
    "\n",
    "# Start by getting the last (greatest) time passed for each patient\n",
    "\n",
    "# Merge this group df with the original dataframe to get the antibody level at the last time passed\n"
   ]
  },
  {
   "cell_type": "code",
   "execution_count": 15,
   "metadata": {},
   "outputs": [
    {
     "name": "stdout",
     "output_type": "stream",
     "text": [
      "Pfizer's potential outliers: 6      1315.57\n",
      "69     1541.15\n",
      "107    1728.14\n",
      "Name: AntibodyLevel (U/mL), dtype: float64\n",
      "Moderna's potential outliers: 0      1805.55\n",
      "80     1924.57\n",
      "195    1748.26\n",
      "Name: AntibodyLevel (U/mL), dtype: float64\n",
      "J&J's potential outliers: 16     1499.37\n",
      "149    1678.15\n",
      "222    1490.84\n",
      "239    1517.55\n",
      "Name: AntibodyLevel (U/mL), dtype: float64\n",
      "None's potential outliers: Series([], Name: AntibodyLevel (U/mL), dtype: float64)\n"
     ]
    }
   ],
   "source": [
    "# Put vaccinations into a list for for loop (and later for plot labels)\n",
    "\n",
    "# Create empty list to fill with antibody level data (for plotting)\n",
    "\n",
    "\n",
    "# Calculate the IQR and quantitatively determine if there are any potential outliers. \n",
    "\n",
    "    \n",
    "    # Locate the rows which contain patients on each vaccine and get the antibody level data\n",
    "    \n",
    "    \n",
    "    # add subset \n",
    "    \n",
    "    \n",
    "    # Determine outliers using upper and lower bounds\n",
    "    "
   ]
  },
  {
   "cell_type": "code",
   "execution_count": 16,
   "metadata": {},
   "outputs": [
    {
     "data": {
      "image/png": "[encoded data removed]",
      "text/plain": [
       "<Figure size 432x288 with 1 Axes>"
      ]
     },
     "metadata": {
      "needs_background": "light"
     },
     "output_type": "display_data"
    }
   ],
   "source": [
    "# Generate a box plot of the final antibody level of each patient across four vaccinations of interest\n"
   ]
  },
  {
   "cell_type": "markdown",
   "metadata": {},
   "source": [
    "## Line and Scatter Plots"
   ]
  },
  {
   "cell_type": "code",
   "execution_count": 21,
   "metadata": {},
   "outputs": [
    {
     "data": {
      "image/png": "[encoded data removed]",
      "text/plain": [
       "<Figure size 432x288 with 1 Axes>"
      ]
     },
     "metadata": {
      "needs_background": "light"
     },
     "output_type": "display_data"
    }
   ],
   "source": [
    "# Generate a line plot of tumor volume vs. time point for a patient treated with Pfizer\n",
    "\n",
    "\n",
    "# pick a patient treated with Pfizer\n"
   ]
  },
  {
   "cell_type": "code",
   "execution_count": 23,
   "metadata": {},
   "outputs": [
    {
     "data": {
      "image/png": "[encoded data removed]",
      "text/plain": [
       "<Figure size 432x288 with 1 Axes>"
      ]
     },
     "metadata": {
      "needs_background": "light"
     },
     "output_type": "display_data"
    }
   ],
   "source": [
    "# Generate a scatter plot of average antibody level vs. patient weight in pounds for the Pfizer vaccine\n",
    "\n",
    "\n"
   ]
  },
  {
   "cell_type": "markdown",
   "metadata": {},
   "source": [
    "## Correlation and Regression"
   ]
  },
  {
   "cell_type": "code",
   "execution_count": 26,
   "metadata": {},
   "outputs": [
    {
     "name": "stdout",
     "output_type": "stream",
     "text": [
      "The correlation between patient weight and the average antibody level is 0.06\n"
     ]
    },
    {
     "data": {
      "image/png": "[encoded data removed]",
      "text/plain": [
       "<Figure size 432x288 with 1 Axes>"
      ]
     },
     "metadata": {
      "needs_background": "light"
     },
     "output_type": "display_data"
    }
   ],
   "source": [
    "# Calculate the correlation coefficient and linear regression model \n",
    "# for patient weight and average antibody level for the pfizer vaccine\n",
    "\n",
    "# correlation determines if there is a positive, negative or no relationship between the variables\n",
    "# positive number = postitive relationship\n",
    "# negative number = negative relationship\n",
    "# number close to 0 = little to no relationship\n",
    "\n",
    "\n",
    "\n",
    "#model # gets the y = mx + b\n",
    "    #index 0 is the slope,\n",
    "    #index 1 is the y intercept\n",
    "    \n",
    "    # calculate the y values for the linear regression model using the slope intercept equation\n",
    "    # objective is to display the trendline on the plot of the average weight v. average antibody level graph \n",
    "    \n",
    "\n",
    "\n",
    "# create the scatter plot again\n",
    "\n",
    "\n",
    "# draw the line with the linear regression line on the plot\n"
   ]
  },
  {
   "cell_type": "code",
   "execution_count": null,
   "metadata": {},
   "outputs": [],
   "source": []
  }
 ],
 "metadata": {
  "anaconda-cloud": {},
  "kernelspec": {
   "display_name": "Python 3",
   "language": "python",
   "name": "python3"
  },
  "language_info": {
   "codemirror_mode": {
    "name": "ipython",
    "version": 3
   },
   "file_extension": ".py",
   "mimetype": "text/x-python",
   "name": "python",
   "nbconvert_exporter": "python",
   "pygments_lexer": "ipython3",
   "version": "3.8.8"
  }
 },
 "nbformat": 4,
 "nbformat_minor": 4
}
